{
  "nbformat": 4,
  "nbformat_minor": 0,
  "metadata": {
    "colab": {
      "name": "EFC1_GCC_253.ipynb",
      "provenance": [],
      "collapsed_sections": [
        "kPNpzNYwkKAO",
        "nEw1UEsmoKMg",
        "9a-wJwU-wtmQ",
        "8dWpeYUvw-wU",
        "zNI1kX0yyDrs",
        "vk4vOTkKyLB-"
      ],
      "toc_visible": true,
      "include_colab_link": true
    },
    "kernelspec": {
      "name": "python3",
      "display_name": "Python 3"
    },
    "language_info": {
      "name": "python"
    }
  },
  "cells": [
    {
      "cell_type": "markdown",
      "metadata": {
        "id": "view-in-github",
        "colab_type": "text"
      },
      "source": [
        "<a href=\"https://colab.research.google.com/github/Rafael1050/cpa-ex-nota1/blob/main/EFC1_GCC_253.ipynb\" target=\"_parent\"><img src=\"https://colab.research.google.com/assets/colab-badge.svg\" alt=\"Open In Colab\"/></a>"
      ]
    },
    {
      "cell_type": "markdown",
      "source": [
        "# EFC1 GCC253 - Complexidade e Projeto de Algoritmos\n",
        "\n",
        "\n",
        "> **Prof.: Douglas H. S. Abreu**\n",
        "\n",
        "\n",
        "**Aluno**: Rafael Victor Marciano Arriel\n",
        "\n",
        "**Matricula**: 201811050\n",
        "\n",
        "**Turma**: 14A\n",
        "\n",
        "Link do repositório GitHub: \n",
        "\n",
        "● O trabalho deve ser feito em grupos de no máximo 2 componentes (todos devem enviar a atividade no Campus Virtual)\n",
        "\n",
        "● Trabalhos entregues após a data limite não serão aceitos\n",
        "\n",
        "● Data limite de entrega: 24 de Julho de 2022 : 23h55m\n",
        "\n",
        "● Enviar o trabalho para o campus virtual, do seguinte modo: link do repositório GitHub e do Colab para acesso ao Notebook. A Documentação deve estar no readme\n",
        "\n",
        "● O trabalho deve ser desenvolvido no modelo Notebook utilizando a linguagem Python"
      ],
      "metadata": {
        "id": "XAdlKnDBj5uB"
      }
    },
    {
      "cell_type": "markdown",
      "source": [
        "# Importações e Variáveis globais"
      ],
      "metadata": {
        "id": "J3d6JlRUxREN"
      }
    },
    {
      "cell_type": "code",
      "source": [
        "import numpy as np\n",
        "import time \n",
        "import matplotlib.pyplot as plt\n",
        "import sys\n",
        "#print(sys.getrecursionlimit())\n",
        "\n",
        "sys.setrecursionlimit(1000000)\n",
        "#print(sys.getrecursionlimit())\n",
        "\n",
        "\n",
        "#global_1=0\n"
      ],
      "metadata": {
        "id": "Ur1DVGQAxac4"
      },
      "execution_count": 4,
      "outputs": []
    },
    {
      "cell_type": "markdown",
      "source": [
        "# Funções de Ordenação\n",
        "\n",
        "> Utilize este espaço para definir as funções de ordenação vista em sala de aula\n",
        "\n"
      ],
      "metadata": {
        "id": "kPNpzNYwkKAO"
      }
    },
    {
      "cell_type": "markdown",
      "source": [
        "##  Insertion Sort\n"
      ],
      "metadata": {
        "id": "nEw1UEsmoKMg"
      }
    },
    {
      "cell_type": "code",
      "source": [
        "def insertionSort(vetor):\n",
        "  \n",
        "  ini = time.time()\n",
        "  comp = 0\n",
        "  \n",
        "  for j in range(1,len(vetor)): \n",
        "    chave = vetor[j]\n",
        "    i = j-1\n",
        "    \n",
        "    while i>=0 and vetor[i]>chave:\n",
        "      vetor[i+1]= vetor[i]\n",
        "      i=i-1\n",
        "    vetor[i+1] = chave\n",
        "  \n",
        "  fim = time.time()\n",
        "  \n",
        "  return fim-ini, comp"
      ],
      "metadata": {
        "id": "kbOrhdB-j_px"
      },
      "execution_count": 5,
      "outputs": []
    },
    {
      "cell_type": "markdown",
      "source": [
        "##  Merge Sort\n"
      ],
      "metadata": {
        "id": "9a-wJwU-wtmQ"
      }
    },
    {
      "cell_type": "code",
      "source": [
        "def mergeSort():\n",
        "  \n",
        "  return"
      ],
      "metadata": {
        "id": "8cgIJ_4EwbPN"
      },
      "execution_count": 6,
      "outputs": []
    },
    {
      "cell_type": "markdown",
      "source": [
        "##  Selection Sort\n"
      ],
      "metadata": {
        "id": "8dWpeYUvw-wU"
      }
    },
    {
      "cell_type": "code",
      "source": [
        "def selectionSort(vetor):\n",
        "  \n",
        "  ini = time.time()\n",
        "  comp = 0\n",
        "\n",
        "  for i in range(len(vetor)):\n",
        "    min = i\n",
        "    \n",
        "    for j in range(i+1, len(vetor)):\n",
        "      if vetor[min] > vetor[j]:\n",
        "        min = j\n",
        "    \n",
        "        vetor[i], vetor[min] = vetor[min], vetor[i]\n",
        "  \n",
        "  fim = time.time()\n",
        "  \n",
        "  return fim-ini, comp"
      ],
      "metadata": {
        "id": "vNgUDShawygu"
      },
      "execution_count": 7,
      "outputs": []
    },
    {
      "cell_type": "markdown",
      "source": [
        "##  Bubble Sort\n"
      ],
      "metadata": {
        "id": "zNI1kX0yyDrs"
      }
    },
    {
      "cell_type": "code",
      "source": [
        "def bubbleSort(vetor):\n",
        "  \n",
        "  ini = time.time()\n",
        "  comp = 0\n",
        "  \n",
        "  alterado = True\n",
        "\n",
        "  for i in range(1,len(vetor)):\n",
        "    \n",
        "    if(alterado == True):\n",
        "      alterado = True\n",
        "      \n",
        "      for j in range(0,len(vetor)-i):\n",
        "      \n",
        "        if(vetor[j] > vetor[j+1]):\n",
        "          temp = vetor[j+1] \n",
        "          vetor[j+1] = vetor[j] \n",
        "          vetor[j] = temp\n",
        "\n",
        "          alterado = True\n",
        "\n",
        "  fim = time.time()\n",
        "    \n",
        " \n",
        "  return fim-ini, comp"
      ],
      "metadata": {
        "id": "6X_zk1yWxMQS"
      },
      "execution_count": 8,
      "outputs": []
    },
    {
      "cell_type": "markdown",
      "source": [
        "## Heap Sort"
      ],
      "metadata": {
        "id": "vk4vOTkKyLB-"
      }
    },
    {
      "cell_type": "code",
      "source": [
        "def heapify(arr, n, i):\n",
        "\n",
        "  largest = i\n",
        "  l = 2 * i + 1\n",
        "  r = 2 * i + 2\n",
        "  \n",
        "  if l < n and arr[i] < arr[l]:\n",
        "    largest = l\n",
        "  \n",
        "  if r < n and arr[largest] < arr[r]:\n",
        "    largest = r\n",
        "  \n",
        "  if largest != i:\n",
        "    arr[i], arr[largest] = arr[largest], arr[i]\n",
        "    heapify(arr, n, largest)\n",
        "  \n",
        "\n",
        "def heapSort(vetor):\n",
        "  \n",
        "  ini = time.time()\n",
        "  comp = 0\n",
        "\n",
        "  n = len(vetor)\n",
        "     \n",
        "  for i in range(n//2, -1, -1):\n",
        "    heapify(vetor, n, i)\n",
        "  \n",
        "  for i in range(n-1, 0, -1):\n",
        "        \n",
        "    vetor[i], vetor[0] = vetor[0], vetor[i]\n",
        "    heapify(vetor, i, 0)\n",
        "\n",
        "  fim = time.time()\n",
        "  \n",
        "  return fim-ini, comp"
      ],
      "metadata": {
        "id": "39a7xXzLyH9g"
      },
      "execution_count": 9,
      "outputs": []
    },
    {
      "cell_type": "markdown",
      "source": [
        "## Quick Sort\n",
        "\n",
        "> pivo = *A[A-comprimento]*"
      ],
      "metadata": {
        "id": "fFiGho5CyU3t"
      }
    },
    {
      "cell_type": "code",
      "source": [
        "def quickSortAux(array):\n",
        "\n",
        "  \n",
        "    less = []\n",
        "    equal = []\n",
        "    greater = []\n",
        "\n",
        "    if len(array) > 1:\n",
        "        \n",
        "        #acho que tem que alterar isso aqui \n",
        "        #pra ficar igual ele colocou ali \"pivo = A[A-comprimentpo]\"\n",
        "        #pivot = array[?]\n",
        "        #tam = len(array)\n",
        "        \n",
        "        pivot = array[len(array)-1]\n",
        "       \n",
        "        for x in array:\n",
        "            if x < pivot:\n",
        "                less.append(x)\n",
        "            elif x == pivot:\n",
        "                equal.append(x)\n",
        "            elif x > pivot:\n",
        "                greater.append(x)\n",
        "       \n",
        "        return  quickSortAux(less) + equal + quickSortAux(greater)  \n",
        "   \n",
        "    else:  \n",
        "      return array\n",
        "      \n",
        "\n",
        "      \n",
        "\n",
        "def quickSort(vetor):\n",
        "  \n",
        "  ini=time.time()\n",
        "  comp = 0\n",
        "  quickSortAux(vetor)\n",
        "  fim = time.time()\n",
        "  return fim-ini, comp\n",
        "\n"
      ],
      "metadata": {
        "id": "1Ie_N5CRyKY7"
      },
      "execution_count": 10,
      "outputs": []
    },
    {
      "cell_type": "markdown",
      "source": [
        "# Questões"
      ],
      "metadata": {
        "id": "VomdAnCrzEv1"
      }
    },
    {
      "cell_type": "markdown",
      "source": [
        "\n",
        "\n",
        "1.   Dado um conjunto de arranjos ***A[5,...,1000, passo=5]***\n",
        "\n",
        "> a) Defina o melhor e pior caso para cada um dos algoritmos definidos acima, crie vetores ***A*** para estes casos e faça a comparação gráficamente também com casos aleatórios (plote um gráfico para cada algoritmo). Conte o numero de comparações realzizadas para cada uma das execuções.\n",
        "\n",
        "> b) Repita o procedimento acima. Porém compare os algoritmos para pior e melhor caso e também casos aleatórios.\n",
        "\n",
        "> c) Qual é o comportamento assintótico para cada um dos algorítmos acima (melhor caso e pior caso, se puder, analise também em casos aleatórios)\n",
        "\n",
        "\n",
        "\n",
        "**Obs.:** para os algoritmos QuickSort e Merge Sort mostre apenas um melhor e um pior caso. faça a comparação com os demais métodos com o conjunto ***A*** apenas em casos aleatórios.\n",
        "\n",
        "\n",
        "\n"
      ],
      "metadata": {
        "id": "3QKV979kzItD"
      }
    },
    {
      "cell_type": "markdown",
      "source": [
        "2.   Desenvolda uma versão aleatorizada do QUICKSORT (pivo aleatório) e compare com a versão apresentada em sala de aula e definida acima.\n",
        "\n"
      ],
      "metadata": {
        "id": "9hhEkQam21NC"
      }
    },
    {
      "cell_type": "code",
      "source": [
        "print(\"Boa sorte!!!\")"
      ],
      "metadata": {
        "colab": {
          "base_uri": "https://localhost:8080/"
        },
        "id": "nBfs279_1Vko",
        "outputId": "b7bc8297-9d13-4828-d730-333a224b24ff"
      },
      "execution_count": null,
      "outputs": [
        {
          "output_type": "stream",
          "name": "stdout",
          "text": [
            "Boa sorte!!!\n"
          ]
        }
      ]
    },
    {
      "cell_type": "markdown",
      "source": [
        "#FUNÇÕES AUXILIARES"
      ],
      "metadata": {
        "id": "oGV6jnlLsFV6"
      }
    },
    {
      "cell_type": "code",
      "source": [
        "def printMenu():\n",
        "  print(\"\\nDigite 1 para comparar os melhores e piores casos dos algoritimos de ordenação\")\n",
        "  print(\"Digite 2 para comprar um algoritimo com o outro\")\n",
        "  print(\"Digite 'ex' para sair \\n\")\n"
      ],
      "metadata": {
        "id": "nHj6XhHFsLA6"
      },
      "execution_count": 14,
      "outputs": []
    },
    {
      "cell_type": "code",
      "source": [
        "def rotinaTestOrd():\n",
        " \n",
        "  #print(\"Defina o numero maximo de entradas, e iremos gerar um grafico com o resultado\")\n",
        "  #t = int(input(\">>>\")) \n",
        "  #print(\"\\n\")\n",
        "\n",
        "  print(\"Digite 1 se deseja testar no selectionSort,\")\n",
        "  print(\"       2 para testar no Quick Sort\")\n",
        "  print(\"       3 para testar no Insertion Sort\")\n",
        "  print(\"       4 para testar no Heap Sort\")\n",
        "  print(\"       5 para testar no Bubble Sort\")\n",
        "  print(\"       6 para testar no Merge Sort\")\n",
        "  print(\"\\n\")\n",
        "\n",
        "  \n",
        "  \n",
        "  op = input(\">>>\")\n",
        "  print(\"\\n\")\n",
        "  \n",
        "  t = 1000\n",
        "  x = []\n",
        "  yMedio = []\n",
        "  yMelhor = []\n",
        "  yPior = []\n",
        "  \n",
        "  if op == \"1\":\n",
        "    for i in range(5,t,5):\n",
        "        \n",
        "        yMedio.append(selectionSort(np.random.randint(0, 1000, (i)))[0])\n",
        "        yMelhor.append(selectionSort(np.arange(0,i,1))[0])\n",
        "        yPior.append(selectionSort(np.arange(i-1,-1,-1))[0])\n",
        "        x.append(i)\n",
        "\n",
        "    plt.suptitle(\"COMPARANDO TEMPOS DE EXECUÇÃO SELECTION SORT\")\n",
        "        \n",
        "  elif op==\"2\":\n",
        "    for i in range(5,t,5):\n",
        "            \n",
        "            yMedio.append(quickSort(np.random.randint(0, 1000, (i)))[0])\n",
        "            yMelhor.append(quickSort(np.arange(0,i,1))[0])\n",
        "            yPior.append(quickSort(np.arange(i-1,-1,-1))[0])\n",
        "            x.append(i)\n",
        "\n",
        "    plt.suptitle(\"COMPARANDO TEMPOS DE EXECUÇÃO QUICK SORT\") \n",
        "  \n",
        "  elif op==\"3\":\n",
        "    for i in range(5,t,5):\n",
        "            \n",
        "            yMedio.append(insertionSort(np.random.randint(0, 1000, (i)))[0])\n",
        "            yMelhor.append(insertionSort(np.arange(0,i,1))[0])\n",
        "            yPior.append(insertionSort(np.arange(i-1,-1,-1))[0])\n",
        "            x.append(i)\n",
        "\n",
        "    plt.suptitle(\"COMPARANDO TEMPOS DE EXECUÇÃO INSERTION SORT\") \n",
        "\n",
        "  elif op==\"4\":\n",
        "    for i in range(5,t,5):\n",
        "            \n",
        "            yMedio.append(heapSort(np.random.randint(0, 1000, (i)))[0])\n",
        "            yMelhor.append(heapSort(np.arange(0,i,1))[0])\n",
        "            yPior.append(heapSort(np.arange(i-1,-1,-1))[0])\n",
        "            x.append(i)\n",
        "\n",
        "    plt.suptitle(\"COMPARANDO TEMPOS DE EXECUÇÃO HEAP SORT\")\n",
        "\n",
        "  elif op==\"5\":\n",
        "    for i in range(5,t,5):\n",
        "            \n",
        "            yMedio.append(bubbleSort(np.random.randint(0, 1000, (i)))[0])\n",
        "            yMelhor.append(bubbleSort(np.arange(0,i,1))[0])\n",
        "            yPior.append(bubbleSort(np.arange(i-1,-1,-1))[0])\n",
        "            x.append(i)\n",
        "\n",
        "    plt.suptitle(\"COMPARANDO TEMPOS DE EXECUÇÃO BUBBLE SORT\")\n",
        "\n",
        "\n",
        "  #plt.suptitle(\"COMPARANDO TEMPOS DE EXECUÇÃO SELECTION SORT\")\n",
        "  #plt.title(\"Verde=MelhorCaso | Azul=MedioCaso | Vermelho=PiorCaso\")\n",
        "  \n",
        "  plt.plot(x,yMelhor, color='green')\n",
        "  plt.plot(x,yMedio,color='blue')\n",
        "  plt.plot(x,yPior, color='red')\n",
        "  \n",
        "  plt.legend([\"Melhor Caso\",\"Medio Caso\",\"Pior Caso\"],title=\"legenda\")\n",
        "  plt.grid(True)\n",
        "  \n",
        "  plt.xlabel(\"NÚMERO DE ENTRADAS\")\n",
        "  plt.ylabel(\"T E M P O\")\n",
        "  plt.show()\n",
        "\n",
        "  #print(plt)\n",
        "\n"
      ],
      "metadata": {
        "id": "VZ4XT_sVrY-J"
      },
      "execution_count": 1,
      "outputs": []
    },
    {
      "cell_type": "markdown",
      "source": [
        "#MAIN"
      ],
      "metadata": {
        "id": "1owZc9KHpPEw"
      }
    },
    {
      "cell_type": "code",
      "source": [
        "##########MAIN#########\n",
        "#Rotina principal onde chama os código\n",
        "\n",
        "#print(\"EFC1 GCC 253 \\n Complexidade e projetos de algoritimo \\n Codigo by Rafael Arriel & Fabio Vitor \\n \\n \")\n",
        "print(\" EFC1 GCC 253 \\n Complexidade e projetos de algoritimo \\n Codigo by Rafael Arriel \\n \")\n",
        "printMenu()\n",
        "\n",
        "op = input(\">>>\")\n",
        "print(\"\\n\")\n",
        "\n",
        "while op != \"ex\":\n",
        "  \n",
        "  if op ==\"1\":\n",
        "    rotinaTestOrd()\n",
        "\n",
        "  elif op ==\"2\":\n",
        "    print(\"Falta codigo \\n \")\n",
        "  \n",
        "  else:\n",
        "    print(\"!!!Opção invalida!!! \\n\")\n",
        "\n",
        "  \n",
        "  printMenu()\n",
        "  op = input(\">>>\")\n",
        "\n",
        "\n"
      ],
      "metadata": {
        "colab": {
          "base_uri": "https://localhost:8080/"
        },
        "id": "lWL6qoy5pN76",
        "outputId": "9f4daba3-276b-4f1f-e2c6-c37b91b75a1e"
      },
      "execution_count": null,
      "outputs": [
        {
          "name": "stdout",
          "output_type": "stream",
          "text": [
            " EFC1 GCC 253 \n",
            " Complexidade e projetos de algoritimo \n",
            " Codigo by Rafael Arriel \n",
            " \n",
            "\n",
            "Digite 1 para comparar os melhores e piores casos dos algoritimos de ordenação\n",
            "Digite 2 para comprar um algoritimo com o outro\n",
            "Digite 'ex' para sair \n",
            "\n",
            ">>>ex\n"
          ]
        }
      ]
    },
    {
      "cell_type": "markdown",
      "source": [
        ""
      ],
      "metadata": {
        "id": "runrvVKFppUh"
      }
    }
  ]
}