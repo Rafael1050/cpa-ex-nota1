{
  "nbformat": 4,
  "nbformat_minor": 0,
  "metadata": {
    "colab": {
      "name": "EFC1_GCC_253.ipynb",
      "provenance": [],
      "collapsed_sections": [
        "J3d6JlRUxREN",
        "fFiGho5CyU3t",
        "VomdAnCrzEv1"
      ],
      "toc_visible": true,
      "include_colab_link": true
    },
    "kernelspec": {
      "name": "python3",
      "display_name": "Python 3"
    },
    "language_info": {
      "name": "python"
    }
  },
  "cells": [
    {
      "cell_type": "markdown",
      "metadata": {
        "id": "view-in-github",
        "colab_type": "text"
      },
      "source": [
        "<a href=\"https://colab.research.google.com/github/Rafael1050/cpa-ex-nota1/blob/main/EFC1_GCC_253.ipynb\" target=\"_parent\"><img src=\"https://colab.research.google.com/assets/colab-badge.svg\" alt=\"Open In Colab\"/></a>"
      ]
    },
    {
      "cell_type": "markdown",
      "source": [
        "# EFC1 GCC253 - Complexidade e Projeto de Algoritmos\n",
        "\n",
        "\n",
        "> **Prof.: Douglas H. S. Abreu**\n",
        "\n",
        "\n",
        "**Aluno**: Rafael Victor Marciano Arriel\n",
        "\n",
        "**Matricula**: 201811050\n",
        "\n",
        "**Turma**: 14A\n",
        "\n",
        "Link do repositório GitHub: https://github.com/Rafael1050/cpa-ex-nota1\n",
        "\n",
        "● O trabalho deve ser feito em grupos de no máximo 2 componentes (todos devem enviar a atividade no Campus Virtual)\n",
        "\n",
        "● Trabalhos entregues após a data limite não serão aceitos\n",
        "\n",
        "● Data limite de entrega: 24 de Julho de 2022 : 23h55m\n",
        "\n",
        "● Enviar o trabalho para o campus virtual, do seguinte modo: link do repositório GitHub e do Colab para acesso ao Notebook. A Documentação deve estar no readme\n",
        "\n",
        "● O trabalho deve ser desenvolvido no modelo Notebook utilizando a linguagem Python"
      ],
      "metadata": {
        "id": "XAdlKnDBj5uB"
      }
    },
    {
      "cell_type": "markdown",
      "source": [
        "# Importações e Variáveis globais"
      ],
      "metadata": {
        "id": "J3d6JlRUxREN"
      }
    },
    {
      "cell_type": "code",
      "source": [
        "import numpy as np\n",
        "import time \n",
        "import matplotlib.pyplot as plt\n",
        "import sys\n",
        "#print(sys.getrecursionlimit())\n",
        "\n",
        "sys.setrecursionlimit(1000000)\n",
        "#print(sys.getrecursionlimit())\n",
        "\n",
        "\n",
        "#global_1=0\n"
      ],
      "metadata": {
        "id": "Ur1DVGQAxac4"
      },
      "execution_count": 16,
      "outputs": []
    },
    {
      "cell_type": "markdown",
      "source": [
        "# Funções de Ordenação\n",
        "\n",
        "> Utilize este espaço para definir as funções de ordenação vista em sala de aula\n",
        "\n"
      ],
      "metadata": {
        "id": "kPNpzNYwkKAO"
      }
    },
    {
      "cell_type": "markdown",
      "source": [
        "##  Insertion Sort\n"
      ],
      "metadata": {
        "id": "nEw1UEsmoKMg"
      }
    },
    {
      "cell_type": "code",
      "source": [
        "def insertionSort(vetor):\n",
        "  \n",
        "  ini = time.time()\n",
        "  comp = [0]\n",
        "  \n",
        "  for j in range(1,len(vetor)): \n",
        "    chave = vetor[j]\n",
        "    i = j-1\n",
        "    \n",
        "    \n",
        "    while i>=0 and vetor[i]>chave:\n",
        "      comp[0]+=1\n",
        "\n",
        "      vetor[i+1]= vetor[i]\n",
        "      i=i-1\n",
        "    vetor[i+1] = chave\n",
        "  \n",
        "  fim = time.time()\n",
        "  \n",
        "  return fim-ini, comp[0]"
      ],
      "metadata": {
        "id": "kbOrhdB-j_px"
      },
      "execution_count": 17,
      "outputs": []
    },
    {
      "cell_type": "markdown",
      "source": [
        "##  Merge Sort\n"
      ],
      "metadata": {
        "id": "9a-wJwU-wtmQ"
      }
    },
    {
      "cell_type": "code",
      "source": [
        "def merge(arr, c):    \n",
        "    if(len(arr) > 1):        \n",
        "        arrE = arr[:int(len(arr)/2)]\n",
        "        arrD = arr[int(len(arr)/2):]       \n",
        "        arrE = merge(arrE, c)\n",
        "        arrD = merge(arrD, c)\n",
        "        arr = sort(arrE, arrD, c)        \n",
        "        return arr\n",
        "    return arr    \n",
        "\n",
        "\n",
        "def sort(arrE,arrD, c):   \n",
        "    arrO = []\n",
        "    while len(arrE) > 0 and len(arrD) > 0:\n",
        "        c[0] += 1           \n",
        "        if arrE[0] < arrD[0]:\n",
        "            arrO.append(arrE[0])\n",
        "            arrE = arrE[1:]\n",
        "        else:\n",
        "            arrO.append(arrD[0])\n",
        "            arrD = arrD[1:]    \n",
        "    while len(arrE) > 0:        \n",
        "        arrO.append(arrE[0])\n",
        "        arrE = arrE[1:]\n",
        "    while len(arrD) > 0:          \n",
        "        arrO.append(arrD[0])\n",
        "        arrD = arrD[1:]   \n",
        "    return arrO\n",
        "\n",
        "\n",
        "def mergeSort(arr):\n",
        "    c = [0]    \n",
        "    \n",
        "    ini = time.time()\n",
        "    merge(arr, c)\n",
        "    fim = time.time()\n",
        "\n",
        "    return fim - ini, c[0]"
      ],
      "metadata": {
        "id": "8cgIJ_4EwbPN"
      },
      "execution_count": 18,
      "outputs": []
    },
    {
      "cell_type": "markdown",
      "source": [
        "##  Selection Sort\n"
      ],
      "metadata": {
        "id": "8dWpeYUvw-wU"
      }
    },
    {
      "cell_type": "code",
      "source": [
        "def selectionSort(vetor):\n",
        "  \n",
        "  ini = time.time()\n",
        "  comp = [0]\n",
        "\n",
        "  for i in range(len(vetor)):\n",
        "    min = i\n",
        "    \n",
        "    for j in range(i+1, len(vetor)):\n",
        "      if vetor[min] > vetor[j]:\n",
        "        comp[0]+=1\n",
        "        \n",
        "        min = j\n",
        "    \n",
        "        vetor[i], vetor[min] = vetor[min], vetor[i]\n",
        "  \n",
        "  fim = time.time()\n",
        "  \n",
        "  return fim-ini, comp[0]"
      ],
      "metadata": {
        "id": "vNgUDShawygu"
      },
      "execution_count": 19,
      "outputs": []
    },
    {
      "cell_type": "markdown",
      "source": [
        "##  Bubble Sort\n"
      ],
      "metadata": {
        "id": "zNI1kX0yyDrs"
      }
    },
    {
      "cell_type": "code",
      "source": [
        "def bubbleSort(vetor):\n",
        "  \n",
        "  ini = time.time()\n",
        "  comp = [0]\n",
        "  \n",
        "  alterado = True\n",
        "\n",
        "  for i in range(1,len(vetor)):\n",
        "    \n",
        "    if(alterado == True):\n",
        "      alterado = True\n",
        "      \n",
        "      for j in range(0,len(vetor)-i):\n",
        "      \n",
        "        if(vetor[j] > vetor[j+1]):\n",
        "          comp[0]+=1\n",
        "          \n",
        "          temp = vetor[j+1] \n",
        "          vetor[j+1] = vetor[j] \n",
        "          vetor[j] = temp\n",
        "\n",
        "          alterado = True\n",
        "\n",
        "  fim = time.time()\n",
        "    \n",
        " \n",
        "  return fim-ini, comp[0]"
      ],
      "metadata": {
        "id": "6X_zk1yWxMQS"
      },
      "execution_count": 20,
      "outputs": []
    },
    {
      "cell_type": "markdown",
      "source": [
        "## Heap Sort"
      ],
      "metadata": {
        "id": "vk4vOTkKyLB-"
      }
    },
    {
      "cell_type": "code",
      "source": [
        "def heapify(arr, n, i,comp):\n",
        "\n",
        "  largest = i\n",
        "  l = 2 * i + 1\n",
        "  r = 2 * i + 2\n",
        "  \n",
        "  if l < n and arr[i] < arr[l]:\n",
        "    comp[0]+=1\n",
        "\n",
        "    largest = l\n",
        "  \n",
        "  if r < n and arr[largest] < arr[r]:\n",
        "    comp[0]+=1\n",
        "    largest = r\n",
        "  \n",
        "  if largest != i:\n",
        "    arr[i], arr[largest] = arr[largest], arr[i]\n",
        "    heapify(arr, n, largest,comp)\n",
        "  \n",
        "\n",
        "def heapSort(vetor):\n",
        "  \n",
        "  ini = time.time()\n",
        "  comp = [0] \n",
        "\n",
        "  n = len(vetor)\n",
        "     \n",
        "  for i in range(n//2, -1, -1):\n",
        "    heapify(vetor, n, i,comp)\n",
        "  \n",
        "  for i in range(n-1, 0, -1):\n",
        "        \n",
        "    vetor[i], vetor[0] = vetor[0], vetor[i]\n",
        "    heapify(vetor, i, 0,comp)\n",
        "\n",
        "  fim = time.time()\n",
        "  \n",
        "  return fim-ini, comp[0]"
      ],
      "metadata": {
        "id": "39a7xXzLyH9g"
      },
      "execution_count": 21,
      "outputs": []
    },
    {
      "cell_type": "markdown",
      "source": [
        "## Quick Sort\n",
        "\n",
        "> pivo = *A[A-comprimento]*"
      ],
      "metadata": {
        "id": "fFiGho5CyU3t"
      }
    },
    {
      "cell_type": "code",
      "source": [
        "comp = [0]\n",
        "\n",
        "def quickSortAux(array):\n",
        "\n",
        "  \n",
        "    less = []\n",
        "    equal = []\n",
        "    greater = []\n",
        "\n",
        "    if len(array) > 1:\n",
        "        \n",
        "        pivot = array[len(array)-1]\n",
        "       \n",
        "        for x in array:\n",
        "            if x < pivot:\n",
        "                comp[0]+=1\n",
        "                less.append(x)\n",
        "            \n",
        "            elif x == pivot:\n",
        "                comp[0]+=1\n",
        "                equal.append(x)\n",
        "\n",
        "            elif x > pivot:\n",
        "                comp[0]+=1\n",
        "                greater.append(x)\n",
        "       \n",
        "        return  quickSortAux(less) + equal + quickSortAux(greater)\n",
        "   \n",
        "    else:  \n",
        "      return array\n",
        "      \n",
        "\n",
        "      \n",
        "\n",
        "def quickSort(vetor):\n",
        "  \n",
        "  ini=time.time()\n",
        "  \n",
        "  quickSortAux(vetor)\n",
        "  fim = time.time()\n",
        "  return fim-ini, comp[0]\n",
        "\n",
        "\n"
      ],
      "metadata": {
        "id": "1Ie_N5CRyKY7"
      },
      "execution_count": 22,
      "outputs": []
    },
    {
      "cell_type": "code",
      "source": [
        "#pivo aleatório\n",
        "def particaoPA(arr, ini, fim, c):\n",
        "    posicaoPivo = np.random.randint(ini,fim+1)    \n",
        "    pivo = arr[posicaoPivo]\n",
        "    me = ini-1\n",
        "    ma = ini-1\n",
        "    for i in range(ini, fim+1):\n",
        "        c[0] += 1       \n",
        "        if arr[i] > pivo:           \n",
        "            ma += 1\n",
        "        else:\n",
        "            me += 1\n",
        "            ma += 1\n",
        "            arr[ma], arr[me] = arr[me], arr[ma]\n",
        "    return me\n",
        "\n",
        "def quickPA(arr, ini, fim, c):     \n",
        "    c[0] += 1\n",
        "    if ini < fim:\n",
        "        pp = particaoPA(arr, ini, fim, c)       \n",
        "        quickPA(arr, ini, pp-1, c)\n",
        "        quickPA(arr, pp+1, fim, c)\n",
        "    \n",
        "def quickSortPA(arr):\n",
        "    c = [0]\n",
        "    ti = time.time()\n",
        "    quickPA(arr, 0, len(arr)-1, c)\n",
        "    return time.time() - ti, c[0]"
      ],
      "metadata": {
        "id": "QF8zEm0nn9yG"
      },
      "execution_count": 23,
      "outputs": []
    },
    {
      "cell_type": "markdown",
      "source": [
        "# Questões"
      ],
      "metadata": {
        "id": "VomdAnCrzEv1"
      }
    },
    {
      "cell_type": "markdown",
      "source": [
        "\n",
        "\n",
        "1.   Dado um conjunto de arranjos ***A[5,...,1000, passo=5]***\n",
        "\n",
        "> a) Defina o melhor e pior caso para cada um dos algoritmos definidos acima, crie vetores ***A*** para estes casos e faça a comparação gráficamente também com casos aleatórios (plote um gráfico para cada algoritmo). Conte o numero de comparações realzizadas para cada uma das execuções.\n",
        "\n",
        "> b) Repita o procedimento acima. Porém compare os algoritmos para pior e melhor caso e também casos aleatórios.\n",
        "\n",
        "> c) Qual é o comportamento assintótico para cada um dos algorítmos acima (melhor caso e pior caso, se puder, analise também em casos aleatórios)\n",
        "\n",
        "\n",
        "\n",
        "**Obs.:** para os algoritmos QuickSort e Merge Sort mostre apenas um melhor e um pior caso. faça a comparação com os demais métodos com o conjunto ***A*** apenas em casos aleatórios.\n",
        "\n",
        "\n",
        "\n"
      ],
      "metadata": {
        "id": "3QKV979kzItD"
      }
    },
    {
      "cell_type": "markdown",
      "source": [
        "2.   Desenvolda uma versão aleatorizada do QUICKSORT (pivo aleatório) e compare com a versão apresentada em sala de aula e definida acima.\n",
        "\n"
      ],
      "metadata": {
        "id": "9hhEkQam21NC"
      }
    },
    {
      "cell_type": "code",
      "source": [
        "print(\"Boa sorte!!!\")"
      ],
      "metadata": {
        "colab": {
          "base_uri": "https://localhost:8080/"
        },
        "id": "nBfs279_1Vko",
        "outputId": "bbaf71d1-0a00-4a85-fc2e-4cb4bd1804d1"
      },
      "execution_count": 24,
      "outputs": [
        {
          "output_type": "stream",
          "name": "stdout",
          "text": [
            "Boa sorte!!!\n"
          ]
        }
      ]
    },
    {
      "cell_type": "markdown",
      "source": [
        "#Respostas\n",
        "\n",
        "  Insertion Sort VVV\n",
        "\n",
        "    Melhor caso: \n",
        "\n",
        "    No insertion sort o melhor caso acontece quando o vetor já está ordenado, a cada posição percorrida ele compara a posição atual com a anterior e como ela é menor que a atual ele não entra no laço e continua a iteração pelo vetor.\n",
        "\n",
        "    Pior caso: \n",
        "\n",
        "    O pior caso acontece quando o vetor está ordenado de forma    contrária à que se deseja ordenar, pois a cada posição percorrida pelo laço principal também se percorre no laço interno da posição atual à posição zero do vetor.\n",
        "\n",
        "\n",
        "\n",
        "  Merge Sort VVV\n",
        "\n",
        "    Melhor caso: \n",
        "\n",
        "    No merge sort o melhor caso acontece quando o vetor já está ordenado, ele divide todo o vetor em sub vetor porém em nenhum momento ele precisa intercala-los.\n",
        "\n",
        "    Pior caso: \n",
        "\n",
        "    O pior caso acontece quando os valores do vetor estão de forma aleatória, o motivo se dá pelo fato de que quando o vetor está ordenado de forma decrescente a intercalação dos valores no método sort quase sempre é feita no primeiro laço while, já quando o vetor está de forma aleatória essa intercalação pode percorrer os três laços.\n",
        "\n",
        "\n",
        "Selection Sort VVV\n",
        "\n",
        "    Melhor caso:\n",
        "\n",
        "    No selection sort o melhor caso acontece quando o vetor já está ordenado, apesar dele sempre percorrer todo vetor em busca do menor valor possível para a posição atual, quando o vetor já está ordenado ele não realiza nenhuma troca de valores.\n",
        "\n",
        "    Pior caso:\n",
        "\n",
        "    O pior caso acontece quando o vetor está ordenado de forma contrária, pois para cada comparação ele realiza uma troca. Apesar do número de comparações serem iguais, os tempos de execução mostram a diferença do custo para a realização dessas trocas.\n",
        "\n",
        "\n",
        "Bubble Sort VVV\n",
        "\n",
        "    Melhor caso:\n",
        "\n",
        "    No bubble sort o melhor caso acontece quando o vetor já está ordenado, pois a flag 'trocou' indica que foi trocado um valor pelo seu sucessor, quando isso não acontece significa que não existe uma posição no vetor que seu valor seja maior do o valor de seu sucessor, logo o vetor já se encontra ordenado e o algoritimo interrompe seu laço na primeira iteração.\n",
        "\n",
        "    Pior caso:\n",
        "\n",
        "    O pior caso acontece quando o vetor está ordenado de forma contrária, nesse caso em toda iteração o maior valor do sub vetor a ser ordenado está na posição atual e o algoritimo faz trocas até que ele chegue na posição final do sub vetor.\n",
        "\n",
        "\n",
        "Heap Sort VVV\n",
        "\n",
        "    Melhor caso:\n",
        "\n",
        "    No heap sort o melhor caso acontece quando vetor já está no formato de uma heap de máximos, assim o algotimo não precisa reoganiza-lo antes das tocas definitivas e faz somente as trocas e a manutenção da heap.\n",
        "\n",
        "\n",
        "    Pior caso:\n",
        "\n",
        "    O pior caso acontece quando o vetor já está ordenado, nesse caso todo filho é maior que seu pai e todo filho da direita é sempre maior que o da esquerda, o que faz com que realize n trocas para gerar a heap de máximos.\n",
        "\n",
        "\n",
        "\n",
        "Quick Sort VVV\n",
        "\n",
        "    Melhor caso:\n",
        "\n",
        "    No quick sort o melhor caso acontece quando o vetor está de forma aleatória, pois a partição é feitas em sub vetores de tamanhos aleatórios, o que não aconte quando o vetor está ordenado tanto em ordem crescente ou decrescente, por exemplo quando está em ordem crescente todo sub vetor menor que o pivo terá o tamanho do vetor anterior -1 e em toda comparação desse sub vetor é trocado o valor de uma posição pelo mesmo valor.  \n",
        "\n",
        "    Pior caso:\n",
        "\n",
        "    O pior caso acontece quando o vetor já está ordenado, para cada comparação feita é copiado o valor da própria posição para a posição atual e todo sub vetor gerado pelo método partição tem o tamanho do vetor que chega no método -1, o que é uma divisão ineficiente pois toda vez é chamado o método quick para um vetor de tamanho zero e em toda iteração o pivo já está no lugar correto e são feitas comparações mas nenhuma troca de valores. \n",
        "\n",
        "\n",
        "####Isertion Sort \n",
        "\n",
        "No melhor caso $O(n)$\n",
        "\n",
        "\n",
        "No caso aleatório $O(n^2)$\n",
        "\n",
        "\n",
        "No pior caso $O(n^2)$\n",
        "#.....\n",
        "####Merge Sort\n",
        "\n",
        "No melhor caso $ϴ(n log n)$\n",
        "\n",
        "\n",
        "No caso aleatório $ϴ(n log n)$\n",
        "\n",
        "\n",
        "No pior caso $ϴ(n log n)$\n",
        "#.....\n",
        "####Selection Sort\n",
        "\n",
        "No melhor caso $O(n^2)$\n",
        "\n",
        "\n",
        "No caso aleatório $O(n^2)$\n",
        "\n",
        "\n",
        "No pior caso $O(n^2)$\n",
        "#.....\n",
        "####Bubble Sort\n",
        "\n",
        "No melhor caso $O(n)$\n",
        "\n",
        "\n",
        "No caso aleatório $O(n^2)$\n",
        "\n",
        "\n",
        "No pior caso $O(n^2)$\n",
        "#.....\n",
        "####Heap Sort\n",
        "\n",
        "No melhor caso $ϴ(n log n)$\n",
        "\n",
        "\n",
        "No caso aleatório $ϴ(n log n)$\n",
        "\n",
        "\n",
        "No pior caso $ϴ(n log n)$\n",
        "#.....\n",
        "####Quick Sort\n",
        "\n",
        "No melhor caso $O(n log n)$\n",
        "\n",
        "\n",
        "No caso aleatório $O(n log n)$\n",
        "\n",
        "\n",
        "No pior caso $O(n^2)$"
      ],
      "metadata": {
        "id": "4H2GNLj_kY_q"
      }
    },
    {
      "cell_type": "markdown",
      "source": [
        "#FUNÇÕES AUXILIARES"
      ],
      "metadata": {
        "id": "oGV6jnlLsFV6"
      }
    },
    {
      "cell_type": "code",
      "source": [
        "def printMenu():\n",
        "  print(\"\\nDigite 1 para comparar os melhores e piores casos dos algoritimos de ordenação\")\n",
        "  print(\"Digite 2 para comparar um algoritimo com o outro\")\n",
        "  print(\"Digite 3 para testar o QuickSort pivo aleatorio\")\n",
        "  print(\"Digite 'ex' para sair \\n\")\n"
      ],
      "metadata": {
        "id": "nHj6XhHFsLA6"
      },
      "execution_count": 25,
      "outputs": []
    },
    {
      "cell_type": "code",
      "source": [
        "def rotinaTestOrd():\n",
        " \n",
        "  #print(\"Defina o numero maximo de entradas, e iremos gerar um grafico com o resultado\")\n",
        "  #t = int(input(\">>>\")) \n",
        "  #print(\"\\n\")\n",
        "\n",
        "  print(\"Digite 1 para testar no Selection Sort,\")\n",
        "  print(\"       2 para testar no Quick Sort\")\n",
        "  print(\"       3 para testar no Insertion Sort\")\n",
        "  print(\"       4 para testar no Heap Sort\")\n",
        "  print(\"       5 para testar no Bubble Sort\")\n",
        "  print(\"       6 para testar no Merge Sort\")\n",
        "  print(\"\\n\")\n",
        "  \n",
        "  op = input(\">>>\")\n",
        "  print(\"\\n\")\n",
        "  \n",
        "  t = 1000\n",
        "  x = []\n",
        "  yMedio = []\n",
        "  yMelhor = []\n",
        "  yPior = []\n",
        "  \n",
        "  label2 =\"\"\n",
        "\n",
        "  ycMedio=[]\n",
        "  ycMelhor = []\n",
        "  ycPior = []\n",
        "  \n",
        "  #selection Sort\n",
        "  if op == \"1\":\n",
        "    for i in range(5,t,5):\n",
        "        \n",
        "        yMedio.append(selectionSort(np.random.randint(0, 1000, (i)))[0])\n",
        "        yMelhor.append(selectionSort(np.arange(0,i,1))[0])\n",
        "        yPior.append(selectionSort(np.arange(i-1,-1,-1))[0])\n",
        "        \n",
        "        x.append(i)\n",
        "        \n",
        "        ycMedio.append(selectionSort(np.random.randint(0, 1000, (i)))[1])\n",
        "        ycMelhor.append(selectionSort(np.arange(0,i,1))[1])\n",
        "        ycPior.append(selectionSort(np.arange(i-1,-1,-1))[1])\n",
        "\n",
        "    plt.suptitle(\"COMPARANDO TEMPOS DE EXECUÇÃO SELECTION SORT\")\n",
        "    label2 = \"COMPARANDO NUMERO DE COMPARAÇÕES FEITOS SELECTION SORT\"\n",
        "        \n",
        "  #quick Sort\n",
        "  elif op==\"2\":\n",
        "    for i in range(5,t,5):\n",
        "            \n",
        "            yMedio.append(quickSort(np.random.randint(0, 1000, (i)))[0])\n",
        "            yMelhor.append(quickSort(np.arange(0,i,1))[0])\n",
        "            yPior.append(quickSort(np.arange(i-1,-1,-1))[0])\n",
        "            \n",
        "            x.append(i)\n",
        "            \n",
        "            ycMedio.append(quickSort(np.random.randint(0, 1000, (i)))[1])\n",
        "            ycMelhor.append(quickSort(np.arange(0,i,1))[1])\n",
        "            ycPior.append(quickSort(np.arange(i-1,-1,-1))[1])\n",
        "\n",
        "    plt.suptitle(\"COMPARANDO TEMPOS DE EXECUÇÃO QUICK SORT\") \n",
        "    label2 = \"COMPARANDO NUMERO DE COMPARAÇÕES FEITOS QUICK SORT\"\n",
        "\n",
        "  #insertion Sort\n",
        "  elif op==\"3\":\n",
        "    for i in range(5,t,5):\n",
        "            \n",
        "            yMedio.append(insertionSort(np.random.randint(0, 1000, (i)))[0])\n",
        "            yMelhor.append(insertionSort(np.arange(0,i,1))[0])\n",
        "            yPior.append(insertionSort(np.arange(i-1,-1,-1))[0])\n",
        "            \n",
        "            x.append(i)\n",
        "            \n",
        "            ycMedio.append(insertionSort(np.random.randint(0, 1000, (i)))[1])\n",
        "            ycMelhor.append(insertionSort(np.arange(0,i,1))[1])\n",
        "            ycPior.append(insertionSort(np.arange(i-1,-1,-1))[1])\n",
        "\n",
        "    plt.suptitle(\"COMPARANDO TEMPOS DE EXECUÇÃO INSERTION SORT\") \n",
        "    label2 = \"COMPARANDO NUMERO DE COMPARAÇÕES FEITOS INSERTION SORT\"\n",
        "\n",
        "  #heap Sort\n",
        "  elif op==\"4\":\n",
        "    for i in range(5,t,5):\n",
        "            \n",
        "            yMedio.append(heapSort(np.random.randint(0, 1000, (i)))[0])\n",
        "            yMelhor.append(heapSort(np.arange(0,i,1))[0])\n",
        "            yPior.append(heapSort(np.arange(i-1,-1,-1))[0])\n",
        "            \n",
        "            x.append(i)\n",
        "            \n",
        "            ycMedio.append(heapSort(np.random.randint(0, 1000, (i)))[1])\n",
        "            ycMelhor.append(heapSort(np.arange(0,i,1))[1])\n",
        "            ycPior.append(heapSort(np.arange(i-1,-1,-1))[1])\n",
        "\n",
        "    plt.suptitle(\"COMPARANDO TEMPOS DE EXECUÇÃO HEAP SORT\")\n",
        "    label2 = \"COMPARANDO NUMERO DE COMPARAÇÕES FEITOS HEAP SORT\"\n",
        "\n",
        "  #bubble Sort\n",
        "  elif op==\"5\":\n",
        "    for i in range(5,t,5):\n",
        "            \n",
        "            yMedio.append(bubbleSort(np.random.randint(0, 1000, (i)))[0])\n",
        "            yMelhor.append(bubbleSort(np.arange(0,i,1))[0])\n",
        "            yPior.append(bubbleSort(np.arange(i-1,-1,-1))[0])\n",
        "            \n",
        "            x.append(i)\n",
        "\n",
        "            ycMedio.append(bubbleSort(np.random.randint(0, 1000, (i)))[1])\n",
        "            ycMelhor.append(bubbleSort(np.arange(0,i,1))[1])\n",
        "            ycPior.append(bubbleSort(np.arange(i-1,-1,-1))[1])\n",
        "\n",
        "    plt.suptitle(\"COMPARANDO TEMPOS DE EXECUÇÃO BUBBLE SORT\")\n",
        "    label2 = \"COMPARANDO NUMERO DE COMPARAÇÕES FEITOS BUBBLE SORT\"\n",
        "\n",
        "  #merge Sort\n",
        "  elif op==\"6\":\n",
        "    for i in range(5,t,5):\n",
        "            \n",
        "            yMedio.append(mergeSort(np.random.randint(0, 1000, (i)))[0])\n",
        "            yMelhor.append(mergeSort(np.arange(0,i,1))[0])\n",
        "            yPior.append(mergeSort(np.arange(i-1,-1,-1))[0])\n",
        "            \n",
        "            x.append(i)\n",
        "\n",
        "            ycMedio.append(mergeSort(np.random.randint(0, 1000, (i)))[1])\n",
        "            ycMelhor.append(mergeSort(np.arange(0,i,1))[1])\n",
        "            ycPior.append(mergeSort(np.arange(i-1,-1,-1))[1])\n",
        "\n",
        "    plt.suptitle(\"COMPARANDO TEMPOS DE EXECUÇÃO MERGE SORT\")\n",
        "    label2 = \"COMPARANDO NUMERO DE COMPARAÇÕES FEITOS MERGE SORT\"\n",
        "\n",
        "  else:\n",
        "    print(\"!!!Opção invalida!!! \\n\")\n",
        "\n",
        "\n",
        "  #plt.suptitle(\"COMPARANDO TEMPOS DE EXECUÇÃO SELECTION SORT\")\n",
        "  #plt.title(\"Verde=MelhorCaso | Azul=MedioCaso | Vermelho=PiorCaso\")\n",
        "  \n",
        "  #Grafico de tempo#####################\n",
        "  plt.plot(x,yMelhor, color='green')\n",
        "  plt.plot(x,yMedio,color='blue')\n",
        "  plt.plot(x,yPior, color='red')\n",
        "  \n",
        "  plt.legend([\"Crescente\",\"aleatorio\",\"Decrescente\"],title=\"legenda\")\n",
        "  plt.grid(True)\n",
        "  \n",
        "  plt.xlabel(\"NÚMERO DE ENTRADAS\")\n",
        "  plt.ylabel(\"T E M P O\")\n",
        "  plt.show()\n",
        "\n",
        "  \n",
        "  #Grafico de comparações#################\n",
        "  plt.suptitle(label2)\n",
        "\n",
        "  plt.plot(x,ycMelhor, color='green')\n",
        "  plt.plot(x,ycMedio,color='blue')\n",
        "  plt.plot(x,ycPior, color='red')\n",
        "  \n",
        "  plt.legend([\"Crescente\",\"aleatorio\",\"Decrescente\"],title=\"legenda\")\n",
        "  plt.grid(True)\n",
        "  \n",
        "  plt.xlabel(\"NÚMERO DE ENTRADAS\")\n",
        "  plt.ylabel(\"COMPARAÇÕES\")\n",
        "  plt.show()\n",
        "\n",
        "  #print(plt)"
      ],
      "metadata": {
        "id": "VZ4XT_sVrY-J"
      },
      "execution_count": 26,
      "outputs": []
    },
    {
      "cell_type": "code",
      "source": [
        "def rotinaComparaAlgoritimo():\n",
        "  \n",
        "  print(\"Digite 1 para comparar com o vetor crescente \")\n",
        "  print(\"       2 para comparar com o vetor aleatorio \")\n",
        "  print(\"       3 para comparar com o vetor decrescente \\n\")\n",
        "\n",
        "  op = input(\">>>\")\n",
        "  print(\"\\n\")\n",
        "  \n",
        "  t = 1000\n",
        "  x = []\n",
        "  \n",
        "  yiMedio = []\n",
        "  ysMedio = []\n",
        "  ybMedio = []\n",
        "  yhMedio = []\n",
        "  ymMedio = []\n",
        "  yqMedio = []\n",
        "  \n",
        "  yiMelhor = []\n",
        "  ysMelhor = []\n",
        "  ybMelhor = []\n",
        "  yhMelhor = []\n",
        "\n",
        "  yiPior = []\n",
        "  ysPior = []\n",
        "  ybPior = []\n",
        "  yhPior = []\n",
        "\n",
        "\n",
        "  if op == \"1\":\n",
        "    \n",
        "    for i in range(5,t,5):\n",
        "      \n",
        "      yiMelhor.append(insertionSort(np.arange(0,i,1))[0])\n",
        "      ysMelhor.append(selectionSort(np.arange(0,i,1))[0])\n",
        "      ybMelhor.append(bubbleSort(np.arange(0,i,1))[0])\n",
        "      yhMelhor.append(heapSort(np.arange(0,i,1))[0])\n",
        "      \n",
        "      x.append(i)\n",
        "\n",
        "      plt.suptitle(\"COMPARANDO TEMPOS DE EXECUÇÃO NO VETOR CRESCENTE\")\n",
        "\n",
        "    plt.plot(x,yiMelhor, color='green')\n",
        "    plt.plot(x,ysMelhor, color='blue')\n",
        "    plt.plot(x,ybMelhor, color='red')\n",
        "    plt.plot(x,yhMelhor, color='yellow')\n",
        "\n",
        "  elif op == \"2\":\n",
        "    \n",
        "    for i in range(5,t,5):\n",
        "      \n",
        "      yiMedio.append(insertionSort(np.random.randint(0, 1000, (i)))[0])\n",
        "      ysMedio.append(selectionSort(np.random.randint(0, 1000, (i)))[0])\n",
        "      ybMedio.append(bubbleSort(np.random.randint(0, 1000, (i)))[0])\n",
        "      yhMedio.append(heapSort(np.random.randint(0, 1000, (i)))[0])\n",
        "      ymMedio.append(mergeSort(np.random.randint(0, 1000, (i)))[0])\n",
        "      yqMedio.append(quickSort(np.random.randint(0, 1000, (i)))[0])\n",
        "      \n",
        "      x.append(i)\n",
        "\n",
        "      plt.suptitle(\"COMPARANDO TEMPOS DE EXECUÇÃO NO VETOR ALEATORIO\")\n",
        "\n",
        "    plt.plot(x,yiMedio, color='green')\n",
        "    plt.plot(x,ysMedio, color='blue')\n",
        "    plt.plot(x,ybMedio, color='red')\n",
        "    plt.plot(x,yhMedio, color='yellow')\n",
        "    plt.plot(x,ymMedio, color='black')\n",
        "    plt.plot(x,yqMedio, color='purple')\n",
        "\n",
        "  elif op == \"3\":\n",
        "    \n",
        "    for i in range(5,t,5):\n",
        "      \n",
        "      yiMelhor.append(insertionSort(np.arange(i-1,-1,-1))[0])\n",
        "      ysMelhor.append(selectionSort(np.arange(i-1,-1,-1))[0])\n",
        "      ybMelhor.append(bubbleSort(np.arange(i-1,-1,-1))[0])\n",
        "      yhMelhor.append(heapSort(np.arange(i-1,-1,-1))[0])\n",
        "      \n",
        "      x.append(i)\n",
        "\n",
        "      plt.suptitle(\"COMPARANDO TEMPOS DE EXECUÇÃO NO VETOR DECRESCENTE\")\n",
        "\n",
        "    plt.plot(x,yiMelhor, color='green')\n",
        "    plt.plot(x,ysMelhor, color='blue')\n",
        "    plt.plot(x,ybMelhor, color='red')\n",
        "    plt.plot(x,yhMelhor, color='yellow')\n",
        "\n",
        "  else:\n",
        "    print(\"!!!Opção invalida!!! \\n\")\n",
        "\n",
        "  \n",
        "  plt.legend([\"InsertionSort\",\"SelectionSort\",\"BubbleSort\",\"HeapSort\",\"MergeSort\",\"QuickSort\"],title=\"legenda\")\n",
        "  plt.grid(True)\n",
        "  \n",
        "  plt.xlabel(\"NÚMERO DE ENTRADAS\")\n",
        "  plt.ylabel(\"T E M P O\")\n",
        "  plt.show()\n",
        "\n"
      ],
      "metadata": {
        "id": "BgHKhpC9EvTc"
      },
      "execution_count": 27,
      "outputs": []
    },
    {
      "cell_type": "code",
      "source": [
        "def plotGraf(x, ys, title, colors, legend, tORc):\n",
        "    plt.title(title)\n",
        "    for i in range(len(ys)):\n",
        "        plt.plot(x,ys[i], colors[i])\n",
        "    \n",
        "    plt.legend(legend, title='Legenda')\n",
        "    plt.xlabel('NÚMERO DE ENTRADAS')\n",
        "    plt.ylabel(tORc)\n",
        "    plt.show()"
      ],
      "metadata": {
        "id": "yiGMOaQ4oPlT"
      },
      "execution_count": 31,
      "outputs": []
    },
    {
      "cell_type": "code",
      "source": [
        "def quickPivoAle():\n",
        "  tAOC = []\n",
        "  tAOC2 = []\n",
        "\n",
        "  tAA = []\n",
        "  tAA2 = []\n",
        "\n",
        "  tAOD = []\n",
        "  tAOD2 = []\n",
        "\n",
        "  cAOC = []\n",
        "  cAOC2 = []\n",
        "\n",
        "  cAA = []\n",
        "  cAA2 =[]\n",
        "\n",
        "  cAOD = []\n",
        "  cAOD2 = []\n",
        "\n",
        "  nE = []\n",
        "\n",
        "\n",
        "  for i in range(5,1000,5):\n",
        "          tAOC.append(quickSort(np.arange(0,i,1))[0])\n",
        "          tAOC2.append(quickSortPA(np.arange(0,i,1))[0])\n",
        "\n",
        "          tAA.append(quickSort(np.random.randint(0, 1000, i))[0])\n",
        "          tAA2.append(quickSortPA(np.random.randint(0, 1000, i))[0])\n",
        "\n",
        "          tAOD.append(quickSort(np.arange(i-1,-1,-1))[0])\n",
        "          tAOD2.append(quickSortPA(np.arange(i-1,-1,-1))[0])\n",
        "\n",
        "          cAOC.append(quickSort(np.arange(0,i,1))[1])\n",
        "          cAOC2.append(quickSortPA(np.arange(0,i,1))[1])\n",
        "\n",
        "          cAA.append(quickSort(np.random.randint(0, 1000, i))[1])\n",
        "          cAA2.append(quickSortPA(np.random.randint(0, 1000, i))[1])\n",
        "\n",
        "          cAOD.append(quickSort(np.arange(i-1,-1,-1))[1])\n",
        "          cAOD2.append(quickSortPA(np.arange(i-1,-1,-1))[1])\n",
        "\n",
        "          nE.append(i)\n",
        "\n",
        "  plotGraf(nE,[tAOC, tAOC2], 'QUICK SORT TEMPOS NO VETOR CRESCENTE', ['black','red'],['PIVO FIXO','PIVO ALEATÓRIO'],'TEMPO')\n",
        "  plotGraf(nE,[cAOC, cAOC2], 'QUICK SORT COMPARAÇÕES NO VETOR CRESCENTE', ['black','red'],['PIVO FIXO','PIVO ALEATÓRIO'],'COMPARAÇÕES')\n",
        "\n",
        "  plotGraf(nE,[tAA, tAA2], 'QUICK SORT TEMPOS NO VETOR ALEATÓRIO', ['black','red'],['PIVO FIXO','PIVO ALEATÓRIO'],'TEMPO')\n",
        "  plotGraf(nE,[cAA, cAA2], 'QUICK SORT COMPARAÇÕES NO VETOR ALEATÓRIO', ['black','red'],['PIVO FIXO','PIVO ALEATÓRIO'],'COMPARAÇÕES')\n",
        "\n",
        "  plotGraf(nE,[tAOD, tAOD2], 'QUICK SORT TEMPOS NO VETOR DECRESCENTE', ['black','red'],['PIVO FIXO','PIVO ALEATÓRIO'],'TEMPO')\n",
        "  plotGraf(nE,[cAOD, cAOD2], 'QUICK SORT COMPARAÇÕES NO VETOR CRESCENTE', ['black','red'],['PIVO FIXO','PIVO ALEATÓRIO'],'COMPARAÇÕES')"
      ],
      "metadata": {
        "id": "E0CRuTo0nNPW"
      },
      "execution_count": 29,
      "outputs": []
    },
    {
      "cell_type": "markdown",
      "source": [
        "#MAIN"
      ],
      "metadata": {
        "id": "1owZc9KHpPEw"
      }
    },
    {
      "cell_type": "code",
      "source": [
        "##########MAIN#########\n",
        "#Rotina principal onde chama os código\n",
        "\n",
        "#print(\"EFC1 GCC 253 \\n Complexidade e projetos de algoritimo \\n Codigo by Rafael Arriel & Fabio Vitor \\n \\n \")\n",
        "print(\" EFC1 GCC 253 \\n Complexidade e projetos de algoritimo \\n Codigo by Rafael Arriel \\n \")\n",
        "printMenu()\n",
        "\n",
        "op = input(\">>>\")\n",
        "print(\"\\n\")\n",
        "\n",
        "while op != \"ex\":\n",
        "  \n",
        "  if op ==\"1\":\n",
        "    rotinaTestOrd()\n",
        "\n",
        "  elif op ==\"2\":\n",
        "    rotinaComparaAlgoritimo()\n",
        "  \n",
        "  elif op ==\"3\":\n",
        "    quickPivoAle()\n",
        "\n",
        "  else:\n",
        "    print(\"!!!Opção invalida!!! \\n\")\n",
        "\n",
        "  \n",
        "  printMenu()\n",
        "  op = input(\">>>\")\n",
        "\n",
        "\n"
      ],
      "metadata": {
        "id": "lWL6qoy5pN76",
        "colab": {
          "base_uri": "https://localhost:8080/",
          "height": 1000
        },
        "outputId": "7a53a1ec-f226-4c46-b2d4-7a4370103916"
      },
      "execution_count": 30,
      "outputs": [
        {
          "output_type": "stream",
          "name": "stdout",
          "text": [
            " EFC1 GCC 253 \n",
            " Complexidade e projetos de algoritimo \n",
            " Codigo by Rafael Arriel \n",
            " \n",
            "\n",
            "Digite 1 para comparar os melhores e piores casos dos algoritimos de ordenação\n",
            "Digite 2 para comparar um algoritimo com o outro\n",
            "Digite 3 para testar o QuickSort pivo aleatorio\n",
            "Digite 'ex' para sair \n",
            "\n",
            ">>>3\n",
            "\n",
            "\n"
          ]
        },
        {
          "output_type": "display_data",
          "data": {
            "text/plain": [
              "<Figure size 432x288 with 1 Axes>"
            ],
            "image/png": "[encoded data removed]"
          },
          "metadata": {
            "needs_background": "light"
          }
        },
        {
          "output_type": "display_data",
          "data": {
            "text/plain": [
              "<Figure size 432x288 with 1 Axes>"
            ],
            "image/png": "[encoded data removed]"
          },
          "metadata": {
            "needs_background": "light"
          }
        },
        {
          "output_type": "display_data",
          "data": {
            "text/plain": [
              "<Figure size 432x288 with 1 Axes>"
            ],
            "image/png": "[encoded data removed]"
          },
          "metadata": {
            "needs_background": "light"
          }
        },
        {
          "output_type": "display_data",
          "data": {
            "text/plain": [
              "<Figure size 432x288 with 1 Axes>"
            ],
            "image/png": "[encoded data removed]"
          },
          "metadata": {
            "needs_background": "light"
          }
        },
        {
          "output_type": "display_data",
          "data": {
            "text/plain": [
              "<Figure size 432x288 with 1 Axes>"
            ],
            "image/png": "[encoded data removed]"
          },
          "metadata": {
            "needs_background": "light"
          }
        },
        {
          "output_type": "display_data",
          "data": {
            "text/plain": [
              "<Figure size 432x288 with 1 Axes>"
            ],
            "image/png": "[encoded data removed]"
          },
          "metadata": {
            "needs_background": "light"
          }
        },
        {
          "name": "stdout",
          "output_type": "stream",
          "text": [
            "\n",
            "Digite 1 para comparar os melhores e piores casos dos algoritimos de ordenação\n",
            "Digite 2 para comparar um algoritimo com o outro\n",
            "Digite 3 para testar o QuickSort pivo aleatorio\n",
            "Digite 'ex' para sair \n",
            "\n",
            ">>>ex\n"
          ]
        }
      ]
    },
    {
      "cell_type": "markdown",
      "source": [
        ""
      ],
      "metadata": {
        "id": "runrvVKFppUh"
      }
    }
  ]
}